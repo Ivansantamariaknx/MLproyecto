{
 "cells": [
  {
   "cell_type": "code",
   "execution_count": 5,
   "metadata": {},
   "outputs": [],
   "source": [
    "import numpy as np\n",
    "import pandas as pd\n",
    "import seaborn as sns"
   ]
  },
  {
   "cell_type": "code",
   "execution_count": 6,
   "metadata": {},
   "outputs": [
    {
     "data": {
      "text/html": [
       "<div>\n",
       "<style scoped>\n",
       "    .dataframe tbody tr th:only-of-type {\n",
       "        vertical-align: middle;\n",
       "    }\n",
       "\n",
       "    .dataframe tbody tr th {\n",
       "        vertical-align: top;\n",
       "    }\n",
       "\n",
       "    .dataframe thead th {\n",
       "        text-align: right;\n",
       "    }\n",
       "</style>\n",
       "<table border=\"1\" class=\"dataframe\">\n",
       "  <thead>\n",
       "    <tr style=\"text-align: right;\">\n",
       "      <th></th>\n",
       "      <th>MES</th>\n",
       "      <th>Resultado</th>\n",
       "      <th>COMERCIAL_NUM</th>\n",
       "      <th>TELEOP_NUM</th>\n",
       "      <th>CANAL_NUM</th>\n",
       "      <th>tipodeobra</th>\n",
       "    </tr>\n",
       "  </thead>\n",
       "  <tbody>\n",
       "    <tr>\n",
       "      <th>0</th>\n",
       "      <td>2</td>\n",
       "      <td>0</td>\n",
       "      <td>4.0</td>\n",
       "      <td>1</td>\n",
       "      <td>1</td>\n",
       "      <td>1</td>\n",
       "    </tr>\n",
       "    <tr>\n",
       "      <th>1</th>\n",
       "      <td>3</td>\n",
       "      <td>0</td>\n",
       "      <td>2.0</td>\n",
       "      <td>2</td>\n",
       "      <td>2</td>\n",
       "      <td>2</td>\n",
       "    </tr>\n",
       "    <tr>\n",
       "      <th>2</th>\n",
       "      <td>3</td>\n",
       "      <td>0</td>\n",
       "      <td>4.0</td>\n",
       "      <td>2</td>\n",
       "      <td>2</td>\n",
       "      <td>1</td>\n",
       "    </tr>\n",
       "    <tr>\n",
       "      <th>3</th>\n",
       "      <td>4</td>\n",
       "      <td>0</td>\n",
       "      <td>2.0</td>\n",
       "      <td>2</td>\n",
       "      <td>2</td>\n",
       "      <td>4</td>\n",
       "    </tr>\n",
       "    <tr>\n",
       "      <th>4</th>\n",
       "      <td>4</td>\n",
       "      <td>0</td>\n",
       "      <td>1.0</td>\n",
       "      <td>3</td>\n",
       "      <td>1</td>\n",
       "      <td>1</td>\n",
       "    </tr>\n",
       "    <tr>\n",
       "      <th>...</th>\n",
       "      <td>...</td>\n",
       "      <td>...</td>\n",
       "      <td>...</td>\n",
       "      <td>...</td>\n",
       "      <td>...</td>\n",
       "      <td>...</td>\n",
       "    </tr>\n",
       "    <tr>\n",
       "      <th>1332</th>\n",
       "      <td>4</td>\n",
       "      <td>0</td>\n",
       "      <td>5.0</td>\n",
       "      <td>1</td>\n",
       "      <td>3</td>\n",
       "      <td>1</td>\n",
       "    </tr>\n",
       "    <tr>\n",
       "      <th>1333</th>\n",
       "      <td>4</td>\n",
       "      <td>0</td>\n",
       "      <td>5.0</td>\n",
       "      <td>9</td>\n",
       "      <td>1</td>\n",
       "      <td>1</td>\n",
       "    </tr>\n",
       "    <tr>\n",
       "      <th>1334</th>\n",
       "      <td>4</td>\n",
       "      <td>0</td>\n",
       "      <td>5.0</td>\n",
       "      <td>1</td>\n",
       "      <td>3</td>\n",
       "      <td>1</td>\n",
       "    </tr>\n",
       "    <tr>\n",
       "      <th>1335</th>\n",
       "      <td>4</td>\n",
       "      <td>0</td>\n",
       "      <td>5.0</td>\n",
       "      <td>3</td>\n",
       "      <td>3</td>\n",
       "      <td>2</td>\n",
       "    </tr>\n",
       "    <tr>\n",
       "      <th>1336</th>\n",
       "      <td>5</td>\n",
       "      <td>0</td>\n",
       "      <td>2.0</td>\n",
       "      <td>1</td>\n",
       "      <td>3</td>\n",
       "      <td>5</td>\n",
       "    </tr>\n",
       "  </tbody>\n",
       "</table>\n",
       "<p>1337 rows × 6 columns</p>\n",
       "</div>"
      ],
      "text/plain": [
       "      MES  Resultado  COMERCIAL_NUM  TELEOP_NUM  CANAL_NUM  tipodeobra\n",
       "0       2          0            4.0           1          1           1\n",
       "1       3          0            2.0           2          2           2\n",
       "2       3          0            4.0           2          2           1\n",
       "3       4          0            2.0           2          2           4\n",
       "4       4          0            1.0           3          1           1\n",
       "...   ...        ...            ...         ...        ...         ...\n",
       "1332    4          0            5.0           1          3           1\n",
       "1333    4          0            5.0           9          1           1\n",
       "1334    4          0            5.0           1          3           1\n",
       "1335    4          0            5.0           3          3           2\n",
       "1336    5          0            2.0           1          3           5\n",
       "\n",
       "[1337 rows x 6 columns]"
      ]
     },
     "execution_count": 6,
     "metadata": {},
     "output_type": "execute_result"
    }
   ],
   "source": [
    "datosML=pd.read_csv(r\"D:\\Bootcamp\\MLproyecto\\Data\\Processed\\datosML.csv\",index_col=False)\n",
    "datosML"
   ]
  },
  {
   "cell_type": "code",
   "execution_count": 7,
   "metadata": {},
   "outputs": [
    {
     "name": "stdout",
     "output_type": "stream",
     "text": [
      "<class 'pandas.core.frame.DataFrame'>\n",
      "RangeIndex: 1337 entries, 0 to 1336\n",
      "Data columns (total 6 columns):\n",
      " #   Column         Non-Null Count  Dtype  \n",
      "---  ------         --------------  -----  \n",
      " 0   MES            1337 non-null   int64  \n",
      " 1   Resultado      1337 non-null   int64  \n",
      " 2   COMERCIAL_NUM  1337 non-null   float64\n",
      " 3   TELEOP_NUM     1337 non-null   int64  \n",
      " 4   CANAL_NUM      1337 non-null   int64  \n",
      " 5   tipodeobra     1337 non-null   int64  \n",
      "dtypes: float64(1), int64(5)\n",
      "memory usage: 62.8 KB\n"
     ]
    }
   ],
   "source": [
    "datosML.info()"
   ]
  },
  {
   "cell_type": "code",
   "execution_count": 8,
   "metadata": {},
   "outputs": [
    {
     "data": {
      "text/html": [
       "<div>\n",
       "<style scoped>\n",
       "    .dataframe tbody tr th:only-of-type {\n",
       "        vertical-align: middle;\n",
       "    }\n",
       "\n",
       "    .dataframe tbody tr th {\n",
       "        vertical-align: top;\n",
       "    }\n",
       "\n",
       "    .dataframe thead th {\n",
       "        text-align: right;\n",
       "    }\n",
       "</style>\n",
       "<table border=\"1\" class=\"dataframe\">\n",
       "  <thead>\n",
       "    <tr style=\"text-align: right;\">\n",
       "      <th></th>\n",
       "      <th>MES</th>\n",
       "      <th>Resultado</th>\n",
       "      <th>COMERCIAL_NUM</th>\n",
       "      <th>TELEOP_NUM</th>\n",
       "      <th>CANAL_NUM</th>\n",
       "      <th>tipodeobra</th>\n",
       "    </tr>\n",
       "  </thead>\n",
       "  <tbody>\n",
       "    <tr>\n",
       "      <th>count</th>\n",
       "      <td>1337.000000</td>\n",
       "      <td>1337.000000</td>\n",
       "      <td>1337.000000</td>\n",
       "      <td>1337.000000</td>\n",
       "      <td>1337.000000</td>\n",
       "      <td>1337.000000</td>\n",
       "    </tr>\n",
       "    <tr>\n",
       "      <th>mean</th>\n",
       "      <td>5.899776</td>\n",
       "      <td>0.225879</td>\n",
       "      <td>3.382947</td>\n",
       "      <td>3.305161</td>\n",
       "      <td>2.027674</td>\n",
       "      <td>3.359761</td>\n",
       "    </tr>\n",
       "    <tr>\n",
       "      <th>std</th>\n",
       "      <td>3.392993</td>\n",
       "      <td>0.418316</td>\n",
       "      <td>1.866810</td>\n",
       "      <td>2.782470</td>\n",
       "      <td>0.952454</td>\n",
       "      <td>1.606022</td>\n",
       "    </tr>\n",
       "    <tr>\n",
       "      <th>min</th>\n",
       "      <td>1.000000</td>\n",
       "      <td>0.000000</td>\n",
       "      <td>1.000000</td>\n",
       "      <td>1.000000</td>\n",
       "      <td>1.000000</td>\n",
       "      <td>1.000000</td>\n",
       "    </tr>\n",
       "    <tr>\n",
       "      <th>25%</th>\n",
       "      <td>3.000000</td>\n",
       "      <td>0.000000</td>\n",
       "      <td>2.000000</td>\n",
       "      <td>1.000000</td>\n",
       "      <td>1.000000</td>\n",
       "      <td>2.000000</td>\n",
       "    </tr>\n",
       "    <tr>\n",
       "      <th>50%</th>\n",
       "      <td>6.000000</td>\n",
       "      <td>0.000000</td>\n",
       "      <td>3.000000</td>\n",
       "      <td>2.000000</td>\n",
       "      <td>2.000000</td>\n",
       "      <td>4.000000</td>\n",
       "    </tr>\n",
       "    <tr>\n",
       "      <th>75%</th>\n",
       "      <td>9.000000</td>\n",
       "      <td>0.000000</td>\n",
       "      <td>5.000000</td>\n",
       "      <td>6.000000</td>\n",
       "      <td>3.000000</td>\n",
       "      <td>5.000000</td>\n",
       "    </tr>\n",
       "    <tr>\n",
       "      <th>max</th>\n",
       "      <td>12.000000</td>\n",
       "      <td>1.000000</td>\n",
       "      <td>7.000000</td>\n",
       "      <td>11.000000</td>\n",
       "      <td>4.000000</td>\n",
       "      <td>5.000000</td>\n",
       "    </tr>\n",
       "  </tbody>\n",
       "</table>\n",
       "</div>"
      ],
      "text/plain": [
       "               MES    Resultado  COMERCIAL_NUM   TELEOP_NUM    CANAL_NUM  \\\n",
       "count  1337.000000  1337.000000    1337.000000  1337.000000  1337.000000   \n",
       "mean      5.899776     0.225879       3.382947     3.305161     2.027674   \n",
       "std       3.392993     0.418316       1.866810     2.782470     0.952454   \n",
       "min       1.000000     0.000000       1.000000     1.000000     1.000000   \n",
       "25%       3.000000     0.000000       2.000000     1.000000     1.000000   \n",
       "50%       6.000000     0.000000       3.000000     2.000000     2.000000   \n",
       "75%       9.000000     0.000000       5.000000     6.000000     3.000000   \n",
       "max      12.000000     1.000000       7.000000    11.000000     4.000000   \n",
       "\n",
       "        tipodeobra  \n",
       "count  1337.000000  \n",
       "mean      3.359761  \n",
       "std       1.606022  \n",
       "min       1.000000  \n",
       "25%       2.000000  \n",
       "50%       4.000000  \n",
       "75%       5.000000  \n",
       "max       5.000000  "
      ]
     },
     "execution_count": 8,
     "metadata": {},
     "output_type": "execute_result"
    }
   ],
   "source": [
    "datosML.describe()"
   ]
  },
  {
   "cell_type": "code",
   "execution_count": 9,
   "metadata": {},
   "outputs": [
    {
     "data": {
      "text/html": [
       "<div>\n",
       "<style scoped>\n",
       "    .dataframe tbody tr th:only-of-type {\n",
       "        vertical-align: middle;\n",
       "    }\n",
       "\n",
       "    .dataframe tbody tr th {\n",
       "        vertical-align: top;\n",
       "    }\n",
       "\n",
       "    .dataframe thead th {\n",
       "        text-align: right;\n",
       "    }\n",
       "</style>\n",
       "<table border=\"1\" class=\"dataframe\">\n",
       "  <thead>\n",
       "    <tr style=\"text-align: right;\">\n",
       "      <th></th>\n",
       "      <th>MES</th>\n",
       "      <th>Resultado</th>\n",
       "      <th>COMERCIAL_NUM</th>\n",
       "      <th>TELEOP_NUM</th>\n",
       "      <th>CANAL_NUM</th>\n",
       "      <th>tipodeobra</th>\n",
       "    </tr>\n",
       "  </thead>\n",
       "  <tbody>\n",
       "    <tr>\n",
       "      <th>MES</th>\n",
       "      <td>1.000000</td>\n",
       "      <td>-0.016207</td>\n",
       "      <td>0.043288</td>\n",
       "      <td>-0.071522</td>\n",
       "      <td>0.087715</td>\n",
       "      <td>0.086977</td>\n",
       "    </tr>\n",
       "    <tr>\n",
       "      <th>Resultado</th>\n",
       "      <td>-0.016207</td>\n",
       "      <td>1.000000</td>\n",
       "      <td>0.091392</td>\n",
       "      <td>-0.018108</td>\n",
       "      <td>0.048173</td>\n",
       "      <td>-0.028575</td>\n",
       "    </tr>\n",
       "    <tr>\n",
       "      <th>COMERCIAL_NUM</th>\n",
       "      <td>0.043288</td>\n",
       "      <td>0.091392</td>\n",
       "      <td>1.000000</td>\n",
       "      <td>-0.029575</td>\n",
       "      <td>0.011716</td>\n",
       "      <td>-0.027511</td>\n",
       "    </tr>\n",
       "    <tr>\n",
       "      <th>TELEOP_NUM</th>\n",
       "      <td>-0.071522</td>\n",
       "      <td>-0.018108</td>\n",
       "      <td>-0.029575</td>\n",
       "      <td>1.000000</td>\n",
       "      <td>-0.706171</td>\n",
       "      <td>-0.118888</td>\n",
       "    </tr>\n",
       "    <tr>\n",
       "      <th>CANAL_NUM</th>\n",
       "      <td>0.087715</td>\n",
       "      <td>0.048173</td>\n",
       "      <td>0.011716</td>\n",
       "      <td>-0.706171</td>\n",
       "      <td>1.000000</td>\n",
       "      <td>0.080097</td>\n",
       "    </tr>\n",
       "    <tr>\n",
       "      <th>tipodeobra</th>\n",
       "      <td>0.086977</td>\n",
       "      <td>-0.028575</td>\n",
       "      <td>-0.027511</td>\n",
       "      <td>-0.118888</td>\n",
       "      <td>0.080097</td>\n",
       "      <td>1.000000</td>\n",
       "    </tr>\n",
       "  </tbody>\n",
       "</table>\n",
       "</div>"
      ],
      "text/plain": [
       "                    MES  Resultado  COMERCIAL_NUM  TELEOP_NUM  CANAL_NUM  \\\n",
       "MES            1.000000  -0.016207       0.043288   -0.071522   0.087715   \n",
       "Resultado     -0.016207   1.000000       0.091392   -0.018108   0.048173   \n",
       "COMERCIAL_NUM  0.043288   0.091392       1.000000   -0.029575   0.011716   \n",
       "TELEOP_NUM    -0.071522  -0.018108      -0.029575    1.000000  -0.706171   \n",
       "CANAL_NUM      0.087715   0.048173       0.011716   -0.706171   1.000000   \n",
       "tipodeobra     0.086977  -0.028575      -0.027511   -0.118888   0.080097   \n",
       "\n",
       "               tipodeobra  \n",
       "MES              0.086977  \n",
       "Resultado       -0.028575  \n",
       "COMERCIAL_NUM   -0.027511  \n",
       "TELEOP_NUM      -0.118888  \n",
       "CANAL_NUM        0.080097  \n",
       "tipodeobra       1.000000  "
      ]
     },
     "execution_count": 9,
     "metadata": {},
     "output_type": "execute_result"
    }
   ],
   "source": [
    "datosML.corr()"
   ]
  },
  {
   "cell_type": "code",
   "execution_count": null,
   "metadata": {},
   "outputs": [],
   "source": []
  },
  {
   "attachments": {},
   "cell_type": "markdown",
   "metadata": {},
   "source": [
    "# Comprobación de equilibrio de target"
   ]
  },
  {
   "cell_type": "code",
   "execution_count": 49,
   "metadata": {},
   "outputs": [
    {
     "data": {
      "text/plain": [
       "0    1035\n",
       "1     302\n",
       "Name: Resultado, dtype: int64"
      ]
     },
     "execution_count": 49,
     "metadata": {},
     "output_type": "execute_result"
    }
   ],
   "source": [
    "datosML[\"Resultado\"].value_counts()"
   ]
  },
  {
   "cell_type": "code",
   "execution_count": 11,
   "metadata": {},
   "outputs": [],
   "source": [
    "#Dado que se se observa un desequilibrio en nuestro target, realizaremos un oversampling para solucionarlo\n",
    "\n",
    "from imblearn.over_sampling import RandomOverSampler\n",
    "\n",
    "oversampler = RandomOverSampler()\n",
    "X_oversampled, y_oversampled = oversampler.fit_resample(datosML.drop(\"Resultado\", axis=1), datosML[\"Resultado\"])\n",
    "\n",
    "# Creamos un DataFrame con el oversampling\n",
    "datosoversampled = pd.DataFrame(X_oversampled, columns=datosML.drop(\"Resultado\", axis=1).columns)\n",
    "datosoversampled[\"Resultado\"] = y_oversampled\n"
   ]
  },
  {
   "cell_type": "code",
   "execution_count": 12,
   "metadata": {},
   "outputs": [
    {
     "data": {
      "text/plain": [
       "0    1035\n",
       "1    1035\n",
       "Name: Resultado, dtype: int64"
      ]
     },
     "execution_count": 12,
     "metadata": {},
     "output_type": "execute_result"
    }
   ],
   "source": [
    "y_oversampled.value_counts()"
   ]
  },
  {
   "attachments": {},
   "cell_type": "markdown",
   "metadata": {},
   "source": [
    "# Pre modelos machine learning"
   ]
  },
  {
   "cell_type": "code",
   "execution_count": 13,
   "metadata": {},
   "outputs": [],
   "source": [
    "from sklearn.model_selection import cross_val_score\n",
    "from sklearn import model_selection"
   ]
  },
  {
   "cell_type": "code",
   "execution_count": 14,
   "metadata": {},
   "outputs": [],
   "source": [
    "X= X_oversampled\n",
    "y= y_oversampled"
   ]
  },
  {
   "cell_type": "code",
   "execution_count": 15,
   "metadata": {},
   "outputs": [],
   "source": [
    "\n",
    "validation_size = 0.20\n",
    "seed = 7\n",
    "X_train, X_test, y_train, y_test = model_selection.train_test_split(X,\n",
    "                                                                    y,\n",
    "                                                                    test_size=validation_size,\n",
    "                                                                    random_state=seed)\n"
   ]
  },
  {
   "attachments": {},
   "cell_type": "markdown",
   "metadata": {},
   "source": [
    "## Fast check modelos"
   ]
  },
  {
   "cell_type": "code",
   "execution_count": 17,
   "metadata": {},
   "outputs": [
    {
     "name": "stderr",
     "output_type": "stream",
     "text": [
      "100%|██████████| 29/29 [00:02<00:00, 10.33it/s]\n"
     ]
    }
   ],
   "source": [
    "from lazypredict.Supervised import LazyClassifier\n",
    "from sklearn.model_selection import train_test_split\n",
    "\n",
    "clf= LazyClassifier(verbose=0, ignore_warnings=True, custom_metric=None)\n",
    "models, predictions= clf.fit(X_train, X_test, y_train, y_test)"
   ]
  },
  {
   "cell_type": "code",
   "execution_count": 18,
   "metadata": {},
   "outputs": [
    {
     "name": "stdout",
     "output_type": "stream",
     "text": [
      "                               Accuracy  Balanced Accuracy  ROC AUC  F1 Score  \\\n",
      "Model                                                                           \n",
      "ExtraTreesClassifier               0.80               0.81     0.81      0.80   \n",
      "RandomForestClassifier             0.79               0.80     0.80      0.79   \n",
      "BaggingClassifier                  0.79               0.80     0.80      0.79   \n",
      "ExtraTreeClassifier                0.78               0.78     0.78      0.78   \n",
      "XGBClassifier                      0.78               0.78     0.78      0.78   \n",
      "LabelPropagation                   0.78               0.78     0.78      0.77   \n",
      "DecisionTreeClassifier             0.78               0.78     0.78      0.77   \n",
      "LabelSpreading                     0.77               0.78     0.78      0.77   \n",
      "LGBMClassifier                     0.73               0.74     0.74      0.73   \n",
      "NuSVC                              0.73               0.73     0.73      0.73   \n",
      "KNeighborsClassifier               0.69               0.70     0.70      0.69   \n",
      "SVC                                0.64               0.64     0.64      0.63   \n",
      "AdaBoostClassifier                 0.62               0.62     0.62      0.62   \n",
      "GaussianNB                         0.58               0.58     0.58      0.58   \n",
      "QuadraticDiscriminantAnalysis      0.57               0.57     0.57      0.57   \n",
      "PassiveAggressiveClassifier        0.54               0.53     0.53      0.53   \n",
      "BernoulliNB                        0.53               0.53     0.53      0.53   \n",
      "NearestCentroid                    0.53               0.53     0.53      0.53   \n",
      "Perceptron                         0.53               0.52     0.52      0.52   \n",
      "CalibratedClassifierCV             0.52               0.52     0.52      0.52   \n",
      "LinearDiscriminantAnalysis         0.52               0.52     0.52      0.52   \n",
      "LogisticRegression                 0.52               0.52     0.52      0.52   \n",
      "RidgeClassifier                    0.52               0.52     0.52      0.52   \n",
      "RidgeClassifierCV                  0.52               0.52     0.52      0.52   \n",
      "LinearSVC                          0.52               0.52     0.52      0.52   \n",
      "SGDClassifier                      0.50               0.50     0.50      0.51   \n",
      "DummyClassifier                    0.48               0.50     0.50      0.31   \n",
      "\n",
      "                               Time Taken  \n",
      "Model                                      \n",
      "ExtraTreesClassifier                 0.22  \n",
      "RandomForestClassifier               0.36  \n",
      "BaggingClassifier                    0.05  \n",
      "ExtraTreeClassifier                  0.01  \n",
      "XGBClassifier                        0.29  \n",
      "LabelPropagation                     0.08  \n",
      "DecisionTreeClassifier               0.02  \n",
      "LabelSpreading                       0.13  \n",
      "LGBMClassifier                       0.12  \n",
      "NuSVC                                0.72  \n",
      "KNeighborsClassifier                 0.04  \n",
      "SVC                                  0.25  \n",
      "AdaBoostClassifier                   0.15  \n",
      "GaussianNB                           0.01  \n",
      "QuadraticDiscriminantAnalysis        0.01  \n",
      "PassiveAggressiveClassifier          0.02  \n",
      "BernoulliNB                          0.01  \n",
      "NearestCentroid                      0.01  \n",
      "Perceptron                           0.01  \n",
      "CalibratedClassifierCV               0.10  \n",
      "LinearDiscriminantAnalysis           0.02  \n",
      "LogisticRegression                   0.02  \n",
      "RidgeClassifier                      0.03  \n",
      "RidgeClassifierCV                    0.02  \n",
      "LinearSVC                            0.03  \n",
      "SGDClassifier                        0.02  \n",
      "DummyClassifier                      0.01  \n"
     ]
    }
   ],
   "source": [
    "print(models)"
   ]
  },
  {
   "attachments": {},
   "cell_type": "markdown",
   "metadata": {},
   "source": [
    "## MODELO 1: LOGISTIC REGRESION"
   ]
  },
  {
   "cell_type": "code",
   "execution_count": 19,
   "metadata": {},
   "outputs": [
    {
     "data": {
      "text/plain": [
       "LogisticRegression()"
      ]
     },
     "execution_count": 19,
     "metadata": {},
     "output_type": "execute_result"
    }
   ],
   "source": [
    "from sklearn.linear_model import LogisticRegression\n",
    "\n",
    "model = LogisticRegression()\n",
    "model.fit(X_train, y_train)"
   ]
  },
  {
   "cell_type": "code",
   "execution_count": 20,
   "metadata": {},
   "outputs": [],
   "source": [
    "prediction= model.predict(X_test)\n"
   ]
  },
  {
   "cell_type": "code",
   "execution_count": 21,
   "metadata": {},
   "outputs": [
    {
     "data": {
      "text/plain": [
       "0.5193236714975845"
      ]
     },
     "execution_count": 21,
     "metadata": {},
     "output_type": "execute_result"
    }
   ],
   "source": [
    "accuracyregression=  model.score(X_test, y_test)\n",
    "accuracyregression"
   ]
  },
  {
   "cell_type": "code",
   "execution_count": 22,
   "metadata": {},
   "outputs": [
    {
     "name": "stdout",
     "output_type": "stream",
     "text": [
      "[0.53614458 0.56024096 0.54216867 0.53012048 0.54216867 0.53012048\n",
      " 0.51515152 0.55757576 0.54545455 0.46060606]\n"
     ]
    }
   ],
   "source": [
    "name='Logistic Regression'\n",
    "kfold = model_selection.KFold(n_splits=10) #Parte los datos en 10 trozos para usar validación cruzada / cross validation\n",
    "cv_results = model_selection.cross_val_score(model, X_train, y_train, cv=kfold, scoring='accuracy')\n",
    "\n",
    "msg = \"%s: %f (%f)\" % (name, cv_results.mean(), cv_results.std())\n",
    "print(cv_results)"
   ]
  },
  {
   "attachments": {},
   "cell_type": "markdown",
   "metadata": {},
   "source": [
    "## MODELO 2: RANDOM TREE"
   ]
  },
  {
   "cell_type": "code",
   "execution_count": 23,
   "metadata": {},
   "outputs": [
    {
     "data": {
      "text/plain": [
       "DecisionTreeRegressor()"
      ]
     },
     "execution_count": 23,
     "metadata": {},
     "output_type": "execute_result"
    }
   ],
   "source": [
    "from sklearn.tree import DecisionTreeRegressor, plot_tree\n",
    "\n",
    "dtr = DecisionTreeRegressor()\n",
    "dtr.fit(X_train,y_train)"
   ]
  },
  {
   "cell_type": "code",
   "execution_count": 24,
   "metadata": {},
   "outputs": [],
   "source": [
    "dtrprediction= dtr.predict(X_test)"
   ]
  },
  {
   "cell_type": "code",
   "execution_count": 25,
   "metadata": {},
   "outputs": [
    {
     "data": {
      "text/plain": [
       "0.28668937836160335"
      ]
     },
     "execution_count": 25,
     "metadata": {},
     "output_type": "execute_result"
    }
   ],
   "source": [
    "dtraccuracy= dtr.score (X_test, y_test)\n",
    "dtraccuracy"
   ]
  },
  {
   "cell_type": "code",
   "execution_count": 26,
   "metadata": {},
   "outputs": [
    {
     "data": {
      "text/plain": [
       "array([-1.96165626, -1.07517671, -0.91693161, -0.25988234,  0.        ])"
      ]
     },
     "execution_count": 26,
     "metadata": {},
     "output_type": "execute_result"
    }
   ],
   "source": [
    "dtraccscores = cross_val_score(dtr, X, y, cv=5)\n",
    "dtraccscores"
   ]
  },
  {
   "attachments": {},
   "cell_type": "markdown",
   "metadata": {},
   "source": [
    "## MODELO 3: BAGGING"
   ]
  },
  {
   "cell_type": "code",
   "execution_count": 27,
   "metadata": {},
   "outputs": [],
   "source": [
    "from sklearn.ensemble import BaggingClassifier\n",
    "from sklearn.tree import DecisionTreeClassifier\n",
    "\n",
    "\n",
    "dtc = DecisionTreeClassifier()\n",
    "modelbag = BaggingClassifier(base_estimator=dtc, n_estimators=100, random_state=seed)"
   ]
  },
  {
   "cell_type": "code",
   "execution_count": 28,
   "metadata": {},
   "outputs": [
    {
     "data": {
      "text/plain": [
       "BaggingClassifier(base_estimator=DecisionTreeClassifier(), n_estimators=100,\n",
       "                  random_state=7)"
      ]
     },
     "execution_count": 28,
     "metadata": {},
     "output_type": "execute_result"
    }
   ],
   "source": [
    "modelbag.fit(X_train, y_train)"
   ]
  },
  {
   "cell_type": "code",
   "execution_count": 29,
   "metadata": {},
   "outputs": [
    {
     "data": {
      "text/plain": [
       "0.7971014492753623"
      ]
     },
     "execution_count": 29,
     "metadata": {},
     "output_type": "execute_result"
    }
   ],
   "source": [
    "bagpred = modelbag.predict(X_test)\n",
    "bagcuracy=modelbag.score(X_test, y_test)\n",
    "bagcuracy"
   ]
  },
  {
   "cell_type": "code",
   "execution_count": 30,
   "metadata": {},
   "outputs": [
    {
     "data": {
      "text/plain": [
       "array([0.69082126, 0.6352657 , 0.74154589, 0.70289855, 0.71014493])"
      ]
     },
     "execution_count": 30,
     "metadata": {},
     "output_type": "execute_result"
    }
   ],
   "source": [
    "bagscores = cross_val_score(modelbag, X, y, cv=5)\n",
    "bagscores"
   ]
  },
  {
   "cell_type": "code",
   "execution_count": 31,
   "metadata": {},
   "outputs": [
    {
     "name": "stdout",
     "output_type": "stream",
     "text": [
      "Mean Accuracy: 0.6961352657004831\n"
     ]
    }
   ],
   "source": [
    "mean_score = bagscores.mean()\n",
    "print(\"Mean Accuracy:\", mean_score)"
   ]
  },
  {
   "cell_type": "code",
   "execution_count": 32,
   "metadata": {},
   "outputs": [],
   "source": [
    "# pruebas extra para validar la fiabilidad\n",
    "\n",
    "from sklearn.metrics import precision_score, recall_score, f1_score"
   ]
  },
  {
   "cell_type": "code",
   "execution_count": 33,
   "metadata": {},
   "outputs": [
    {
     "data": {
      "text/plain": [
       "0.7375"
      ]
     },
     "execution_count": 33,
     "metadata": {},
     "output_type": "execute_result"
    }
   ],
   "source": [
    "#precision \n",
    "precision = precision_score(y_test, bagpred)\n",
    "precision"
   ]
  },
  {
   "cell_type": "code",
   "execution_count": 34,
   "metadata": {},
   "outputs": [
    {
     "data": {
      "text/plain": [
       "0.8939393939393939"
      ]
     },
     "execution_count": 34,
     "metadata": {},
     "output_type": "execute_result"
    }
   ],
   "source": [
    "#recall\n",
    "\n",
    "recall = recall_score(y_test, bagpred)\n",
    "recall"
   ]
  },
  {
   "cell_type": "code",
   "execution_count": 35,
   "metadata": {},
   "outputs": [
    {
     "data": {
      "text/plain": [
       "0.8082191780821918"
      ]
     },
     "execution_count": 35,
     "metadata": {},
     "output_type": "execute_result"
    }
   ],
   "source": [
    "#f1 score\n",
    "f1 = f1_score(y_test, bagpred)\n",
    "f1"
   ]
  },
  {
   "attachments": {},
   "cell_type": "markdown",
   "metadata": {},
   "source": [
    "## MODELO 4: Ada Boost"
   ]
  },
  {
   "cell_type": "code",
   "execution_count": 36,
   "metadata": {},
   "outputs": [
    {
     "data": {
      "text/plain": [
       "AdaBoostClassifier()"
      ]
     },
     "execution_count": 36,
     "metadata": {},
     "output_type": "execute_result"
    }
   ],
   "source": [
    "from sklearn.ensemble import AdaBoostClassifier\n",
    "\n",
    "adaboost = AdaBoostClassifier()\n",
    "adaboost.fit(X_train, y_train)\n"
   ]
  },
  {
   "cell_type": "code",
   "execution_count": 37,
   "metadata": {},
   "outputs": [],
   "source": [
    "adapred=adaboost.predict(X_test)\n"
   ]
  },
  {
   "cell_type": "code",
   "execution_count": 38,
   "metadata": {},
   "outputs": [
    {
     "data": {
      "text/plain": [
       "0.6183574879227053"
      ]
     },
     "execution_count": 38,
     "metadata": {},
     "output_type": "execute_result"
    }
   ],
   "source": [
    "adaaccuracy=adaboost.score(X_test, y_test)\n",
    "adaaccuracy"
   ]
  },
  {
   "cell_type": "code",
   "execution_count": 39,
   "metadata": {},
   "outputs": [
    {
     "data": {
      "text/plain": [
       "array([0.34057971, 0.37198068, 0.44927536, 0.48067633, 0.53140097])"
      ]
     },
     "execution_count": 39,
     "metadata": {},
     "output_type": "execute_result"
    }
   ],
   "source": [
    "adaboostscores = cross_val_score(adaboost, X, y, cv=5)\n",
    "adaboostscores"
   ]
  },
  {
   "attachments": {},
   "cell_type": "markdown",
   "metadata": {},
   "source": [
    "## MODELO 5: RANDOM FOREST"
   ]
  },
  {
   "cell_type": "code",
   "execution_count": 40,
   "metadata": {},
   "outputs": [],
   "source": [
    "from sklearn.ensemble import RandomForestClassifier\n",
    "from sklearn.metrics import accuracy_score\n",
    "\n",
    "rf_classifier = RandomForestClassifier(n_estimators=100, random_state=42)\n"
   ]
  },
  {
   "cell_type": "code",
   "execution_count": 41,
   "metadata": {},
   "outputs": [
    {
     "data": {
      "text/plain": [
       "RandomForestClassifier(random_state=42)"
      ]
     },
     "execution_count": 41,
     "metadata": {},
     "output_type": "execute_result"
    }
   ],
   "source": [
    "rf_classifier.fit(X_train, y_train)\n"
   ]
  },
  {
   "cell_type": "code",
   "execution_count": 42,
   "metadata": {},
   "outputs": [],
   "source": [
    "y_pred = rf_classifier.predict(X_test)\n"
   ]
  },
  {
   "cell_type": "code",
   "execution_count": 43,
   "metadata": {},
   "outputs": [
    {
     "data": {
      "text/plain": [
       "0.7995169082125604"
      ]
     },
     "execution_count": 43,
     "metadata": {},
     "output_type": "execute_result"
    }
   ],
   "source": [
    "accuracy_randomforest = accuracy_score(y_test, y_pred)\n",
    "accuracy_randomforest"
   ]
  },
  {
   "cell_type": "code",
   "execution_count": 44,
   "metadata": {},
   "outputs": [
    {
     "data": {
      "text/plain": [
       "array([0.65217391, 0.66425121, 0.74154589, 0.73913043, 0.74637681])"
      ]
     },
     "execution_count": 44,
     "metadata": {},
     "output_type": "execute_result"
    }
   ],
   "source": [
    "#Cross validation\n",
    "forestscores = cross_val_score(rf_classifier, X, y, cv=5)\n",
    "forestscores"
   ]
  },
  {
   "cell_type": "code",
   "execution_count": 45,
   "metadata": {},
   "outputs": [
    {
     "data": {
      "text/plain": [
       "0.7086956521739131"
      ]
     },
     "execution_count": 45,
     "metadata": {},
     "output_type": "execute_result"
    }
   ],
   "source": [
    "mean_forest=forestscores.mean()\n",
    "mean_forest"
   ]
  },
  {
   "attachments": {},
   "cell_type": "markdown",
   "metadata": {},
   "source": [
    "## Modelo 6: Extra Trees Classifier "
   ]
  },
  {
   "cell_type": "code",
   "execution_count": 52,
   "metadata": {},
   "outputs": [],
   "source": [
    "from sklearn.ensemble import ExtraTreesClassifier\n",
    "\n",
    "clf = ExtraTreesClassifier()\n",
    "\n",
    "# Entrenar el modelo con tus datos de entrenamiento\n",
    "clf.fit(X_train, y_train)\n",
    "\n",
    "# Realizar predicciones en tus datos de prueba\n",
    "y_pred = clf.predict(X_test)\n",
    "\n"
   ]
  },
  {
   "cell_type": "code",
   "execution_count": 54,
   "metadata": {},
   "outputs": [
    {
     "data": {
      "text/plain": [
       "0.8043478260869565"
      ]
     },
     "execution_count": 54,
     "metadata": {},
     "output_type": "execute_result"
    }
   ],
   "source": [
    "# Calcular la precisión del modelo\n",
    "accuracy = clf.score(X_test, y_test)\n",
    "accuracy"
   ]
  },
  {
   "cell_type": "code",
   "execution_count": 57,
   "metadata": {},
   "outputs": [
    {
     "data": {
      "text/plain": [
       "0.7328502415458937"
      ]
     },
     "execution_count": 57,
     "metadata": {},
     "output_type": "execute_result"
    }
   ],
   "source": [
    "#cross validation\n",
    "\n",
    "extratreecross=cross_val_score(clf, X, y, cv=5)\n",
    "extratreecross.mean()"
   ]
  },
  {
   "attachments": {},
   "cell_type": "markdown",
   "metadata": {},
   "source": [
    "## MEJOR MODELO: Extra Trees Classifier "
   ]
  },
  {
   "cell_type": "code",
   "execution_count": 58,
   "metadata": {},
   "outputs": [
    {
     "data": {
      "text/plain": [
       "['new_model.pkl']"
      ]
     },
     "execution_count": 58,
     "metadata": {},
     "output_type": "execute_result"
    }
   ],
   "source": [
    "import joblib\n",
    "\n",
    "joblib.dump(clf, 'new_model.pkl')"
   ]
  },
  {
   "attachments": {},
   "cell_type": "markdown",
   "metadata": {},
   "source": [
    "# FEATURE IMPORTANCE"
   ]
  },
  {
   "cell_type": "code",
   "execution_count": 59,
   "metadata": {},
   "outputs": [
    {
     "name": "stdout",
     "output_type": "stream",
     "text": [
      "         Feature  Importance\n",
      "0            MES        0.40\n",
      "1  COMERCIAL_NUM        0.22\n",
      "2     TELEOP_NUM        0.18\n",
      "4     tipodeobra        0.15\n",
      "3      CANAL_NUM        0.05\n"
     ]
    }
   ],
   "source": [
    "#feature importance\n",
    "\n",
    "\n",
    "# Obtener la importancia de las características\n",
    "importances = clf.feature_importances_\n",
    "\n",
    "# Crear un DataFrame con las características y su importancia\n",
    "feature_importances = pd.DataFrame({'Feature': X.columns, 'Importance': importances})\n",
    "\n",
    "# Ordenar las características por su importancia descendente\n",
    "feature_importances = feature_importances.sort_values('Importance', ascending=False)\n",
    "\n",
    "# Imprimir el ranking de importancia de las características\n",
    "print(feature_importances)\n"
   ]
  }
 ],
 "metadata": {
  "kernelspec": {
   "display_name": "Python 3",
   "language": "python",
   "name": "python3"
  },
  "language_info": {
   "codemirror_mode": {
    "name": "ipython",
    "version": 3
   },
   "file_extension": ".py",
   "mimetype": "text/x-python",
   "name": "python",
   "nbconvert_exporter": "python",
   "pygments_lexer": "ipython3",
   "version": "3.7.4"
  },
  "orig_nbformat": 4
 },
 "nbformat": 4,
 "nbformat_minor": 2
}
