{
 "cells": [
  {
   "cell_type": "code",
   "execution_count": null,
   "metadata": {},
   "outputs": [],
   "source": []
  },
  {
   "attachments": {},
   "cell_type": "markdown",
   "metadata": {},
   "source": [
    "# Contexto"
   ]
  },
  {
   "attachments": {},
   "cell_type": "markdown",
   "metadata": {},
   "source": [
    "<p>El presente modelo tiene como finalidad predecir la firma o no de un presupuesto de reformas entregado por la compañía. De cara a la elaboración de dicho modelo se ha dispuesto de una hoja de Excel en la cual se registran todas las peticiones de presupuesto obtenidas a través de nuestros distintos canales online. Dicho informe ha sido categorizado como [label](<../../Data/Raw/Informe de ventas WEB2.csv>)\n",
    "\n",
    " Se realizará una limpieza de los datos incluidos en el mismo archivo, de manera que puedan ser tratados y nos permitan ser utilizados para testear varios modelos y tratar así de obtener una predicción de firmas y proyectos rechazados. Adicionalmente, se pretende comprender qué variables son las que más peso tienen de cara a que un presupuesto sea firmado.</p>"
   ]
  },
  {
   "attachments": {},
   "cell_type": "markdown",
   "metadata": {},
   "source": [
    "# Tratamiento de los datos"
   ]
  },
  {
   "attachments": {},
   "cell_type": "markdown",
   "metadata": {},
   "source": [
    "<p>No existe un cuidado exhaustivo por parte de la empresa a la hora de introducir la información en dicho documento. De esta manera, ha habido que realizar muchas correcciones de variables. \n",
    "\n",
    "El fichero recoge información de varios años, no siempre estando completa. De este modo, hemos realizado una limpieza en la cual hemos eliminado las columnas y filas que no aportaban nada a nuestro estudio.\n",
    "</p>\n",
    "\n",
    "\n"
   ]
  },
  {
   "attachments": {},
   "cell_type": "markdown",
   "metadata": {},
   "source": [
    "# Variables consideradas "
   ]
  },
  {
   "attachments": {},
   "cell_type": "markdown",
   "metadata": {},
   "source": [
    "<p> Se ha establecido qué variables podrían ser tenidas en cuenta de cara a la firma o rechazo de un presupuesto, estableciéndose las siguientes:\n",
    "\n",
    "<ol>\n",
    "  <li>Mes en que se contactó y en consecuencia meses posteriores en los que se realizará el trabajo de reforma</li>\n",
    "  <li>Comercial encargado de gestionar dicho presupuesto</li>\n",
    "  <li>Teleoperadora responsable de llevar el control de dicho presupuesto</li>\n",
    "  <li>Canal por la que se recibió dicha petición de presupuesto de reforma</li>\n",
    "  <li>Tipo de obra a realizar.</li>\n",
    "  <li>Variable objetivo (target): resultado de la entrega de presupuesto (firma o rechazo del mismo) </li>\n",
    "</ol>\n",
    "\n",
    "<p>Dichas variables son, salvo la excepción del mes, de tipo texto. Por este motivo, de cara a poder tener en cuenta dichas variables en nuestro modelo las hemos transformado en números, asignando así a cada elemento de cada una de las variables un número que permita así a los distintos modelos extraer conclusiones. </p>"
   ]
  },
  {
   "attachments": {},
   "cell_type": "markdown",
   "metadata": {},
   "source": [
    "# Trabajos previos al Machine Learning"
   ]
  },
  {
   "attachments": {},
   "cell_type": "markdown",
   "metadata": {},
   "source": [
    "<p>Dadas las características de este proyecto, existe un desequilibrio significativo en la variable objetivo entre los dos resultados posibles: firmado o rechazado, trasladándose en 1 y 0 respectivamente. Debido a ello, el número de rechazados supone un 70%, del total de la muestra por tanto esto altera el resultado de nuestro modelo.\n",
    "\n",
    "De cara a corregir este aspecto, previo al testeo de los modelos de ML se ha realizado un oversampling que equilibre la variable objetivo de manera artificial, equilibrando los firmados y rechazados hasta situarlos en un 50%. </p>"
   ]
  },
  {
   "attachments": {},
   "cell_type": "markdown",
   "metadata": {},
   "source": [
    "# Testeo de modelos"
   ]
  },
  {
   "attachments": {},
   "cell_type": "markdown",
   "metadata": {},
   "source": [
    "<p>Dado el objetivo de dicho testeo estamos ante un caso en el que se requieren modelos de clasificación. Una vez definido X e Y y habiendo dividido los datos entre train y test (el validation size siendo de 0.20) hemos testeado los siguientes modelos y hemos obtenido los siguientes score:</p>\n",
    "\n",
    "<ul>\n",
    "  <li>Logistic Regression: 0.56 de Score. </li>\n",
    "  <li>Decision Tree Regressor: 0.35.</li>\n",
    "  <li>Bagging Classifier: 0.78.</li>\n",
    "  <li>Ada Boost: 0.59.</li>\n",
    "  <li>ExtraTreesClassifier: 0.81</li>\n",
    "  <li>RandomForestClassifier: 0.81 </li>\n",
    "  <li>Ensemble: 0.82</li>\n",
    " </ul>\n",
    "\n",
    "\n",
    " <p>En base a lo anterior, concluimos que el modelo que mejor predice nuestros datos es el Ensemble (compuesto por tres submodelos: Bagging, Random Forest y Extra Trees) con método Voting</p>"
   ]
  },
  {
   "attachments": {},
   "cell_type": "markdown",
   "metadata": {},
   "source": [
    "<p> De cara a asegurarnos que efectivamente es un buen modelo, hemos realizado pruebas adicionales. Por un lado, un Cross validation, el cual nos ofrece un resultado medio de 0.69. Adicionalmente, hemos probado otras métricas de validación más allá del score:</p>\n",
    "\n",
    "\n",
    "<ol>\n",
    "  <li>Balanced Accuracy: 0.82 </li>\n",
    "  <li>ROC AUC: 0.82</li>\n",
    "  <li>F1 Score: 0.82</li>\n",
    " </ol>\n",
    "\n"
   ]
  },
  {
   "attachments": {},
   "cell_type": "markdown",
   "metadata": {},
   "source": [
    "<p>Partiendo de dicho modelo realizado se ha realizado una predicción de datos, escogiendo proyectos que a día de hoy están pendientes, es decir, todavía no han sido rechazados ni firmados."
   ]
  },
  {
   "attachments": {},
   "cell_type": "markdown",
   "metadata": {},
   "source": [
    "# Feature importance"
   ]
  },
  {
   "attachments": {},
   "cell_type": "markdown",
   "metadata": {},
   "source": [
    "<p> El feature importance se distribuye del siguiente modo:\n",
    "\n",
    "\n",
    "<ol>\n",
    "  <li>Mes: 0.37 </li>\n",
    "  <li>Comercial: 0.23</li>\n",
    "  <li>Teleoperadora: 0.19</li>\n",
    "  <li>Tipo de obra: 0.15</li>\n",
    "  <li>Canal: 0.05</li>\n",
    " </ol>\n",
    "\n",
    " <p> Como se puede observar la variable que más peso tiene de cara a la firma de un proyecto es el mes, seguidamente del comercial. Estas dos variables impactan en un 60% del total. Por otro lado, se observa que el canal (el modo en que se recibe la petición de presupuesto) tiene un impacto poco significativo de cara a que se firme o no un proyecto </p>"
   ]
  }
 ],
 "metadata": {
  "kernelspec": {
   "display_name": "Python 3",
   "language": "python",
   "name": "python3"
  },
  "language_info": {
   "codemirror_mode": {
    "name": "ipython",
    "version": 3
   },
   "file_extension": ".py",
   "mimetype": "text/x-python",
   "name": "python",
   "nbconvert_exporter": "python",
   "pygments_lexer": "ipython3",
   "version": "3.7.4"
  },
  "orig_nbformat": 4
 },
 "nbformat": 4,
 "nbformat_minor": 2
}
