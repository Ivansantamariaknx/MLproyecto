{
 "cells": [
  {
   "cell_type": "code",
   "execution_count": null,
   "metadata": {},
   "outputs": [],
   "source": []
  },
  {
   "attachments": {},
   "cell_type": "markdown",
   "metadata": {},
   "source": [
    "# Contexto"
   ]
  },
  {
   "attachments": {},
   "cell_type": "markdown",
   "metadata": {},
   "source": [
    "<p>El presente modelo tiene como finalidad predecir la firma o no de un presupuesto de reformas entregado por la compañía. De cara a la elaboración de dicho modelo se ha dispuesto de una hoja de Excel en la cual se registran todas las peticiones de presupuesto obtenidas a través de nuestros distintos canales online. Dicho informe ha sido categorizado como [label](<../../Data/Raw/Informe de ventas WEB2.csv>)\n",
    "\n",
    " Se realizará una limpieza de los datos incluidos en el mismo archivo, de manera que puedan ser tratados y nos permitan ser utilizados para testear varios modelos y tratar así de obtener una predicción de firmas y proyectos rechazados. Adicionalmente, se pretende comprender qué variables son las que más peso tienen de cara a que un presupuesto sea firmado.</p>"
   ]
  },
  {
   "cell_type": "code",
   "execution_count": null,
   "metadata": {},
   "outputs": [],
   "source": []
  },
  {
   "attachments": {},
   "cell_type": "markdown",
   "metadata": {},
   "source": [
    "# Tratamiento de los datos"
   ]
  },
  {
   "attachments": {},
   "cell_type": "markdown",
   "metadata": {},
   "source": [
    "<p>No existe un cuidado exhaustivo a la hora de introducir la información en dicho documento. De esta manera, ha habido que realizar muchas correcciones de variables. \n",
    "\n",
    "El fichero recoge información de varios años, no siempre estando completa. De este modo, hemos realizado una limpieza en la cual hemos eliminado las columnas y filas que no aportaban nada a nuestro estudio.\n",
    "</p>\n",
    "\n",
    "\n"
   ]
  },
  {
   "attachments": {},
   "cell_type": "markdown",
   "metadata": {},
   "source": [
    "# Variables consideradas "
   ]
  },
  {
   "attachments": {},
   "cell_type": "markdown",
   "metadata": {},
   "source": [
    "<p> Se ha establecido qué variables podrían ser tenidas en cuenta de cara a la firma o rechazo de un presupuesto, estableciéndose las siguientes:\n",
    "\n",
    "<ol>\n",
    "  <li>Mes en que se contactó y en consecuencia meses posteriores en los que se realizará el trabajo de reforma</li>\n",
    "  <li>Comercial encargado de gestionar dicho presupuesto</li>\n",
    "  <li>Teleoperadora responsable de llevar el control de dicho presupuesto</li>\n",
    "  <li>Canal por la que se recibió dicha petición de presupuesto de reforma</li>\n",
    "  <li>Tipo de obra a realizar.</li>\n",
    "  <li>Variable objetivo (target): resultado de la entrega de presupuesto (firma o rechazo del mismo) </li>\n",
    "</ol>\n",
    "\n",
    "<p>Dichas variables son, salvo la excepción del mes, de tipo texto. De este modo, de cara a poder tener en cuenta dichas variables en nuestro modelo las hemos transformado en números, asignandoasí a cada elemento de cada una de las variables un número que permita así a los distintos modelos extraer conclusiones. </p>"
   ]
  },
  {
   "attachments": {},
   "cell_type": "markdown",
   "metadata": {},
   "source": [
    "# Trabajos previos al Machine Learning"
   ]
  },
  {
   "cell_type": "code",
   "execution_count": null,
   "metadata": {},
   "outputs": [],
   "source": []
  },
  {
   "attachments": {},
   "cell_type": "markdown",
   "metadata": {},
   "source": [
    "<p>Dadas las características de este proyecto, existe un desequilibrio significativo en la variable objetivo, se pueden dar dos resultados: firmado o rechazado, trasladándose en 1 y 0 respectivamente. Debido a ello, el número de rechazados es un 70%, por tanto esto altera el resultado de nuestro modelo.\n",
    "\n",
    "De cara a corregir este aspecto, previo al testeo de los modelos de ML se ha realizado un oversampling que equilibre la variable objetivo de manera artificial a un 50%. </p>"
   ]
  },
  {
   "attachments": {},
   "cell_type": "markdown",
   "metadata": {},
   "source": [
    "# Testeo de modelos"
   ]
  },
  {
   "attachments": {},
   "cell_type": "markdown",
   "metadata": {},
   "source": [
    "<p>Dado el objetivo de dicho testeo estamos ante un caso en el que se requieren modelos de clasificación. Una vez definido X e Y y habiendo dividido los datos entre train y test (el validation size siendo de 0.20) hemos testeado los siguientes modelos y hemos obtenido los siguientes accuracy:</p>\n",
    "\n",
    "<ul>\n",
    "  <li>Logistic Regression: 0.56 de Score. </li>\n",
    "  <li>Decision Tree Regressor: 0.35.</li>\n",
    "  <li>Bagging Classifier: 0.78.</li>\n",
    "  <li>Ada Boost: 0.59.</li>\n",
    " </ul>\n",
    "\n",
    " <p>En base a lo anterior, concluimos que el modelo que mejor predice nuestros datos es sin duda Bagging Classifier</p>"
   ]
  },
  {
   "attachments": {},
   "cell_type": "markdown",
   "metadata": {},
   "source": [
    "<p> De cara a asegurarnos que efectivamente es un buen modelo, hemos realizado pruebas adicionales. Por un lado, un Cross validation, el cual nos ofrece un resultado medio de 0.69. Adicionalmente, hemos probado otras métricas de validación más allá del score:</p>\n",
    "\n",
    "\n",
    "<ol>\n",
    "  <li>precision: 0.73 </li>\n",
    "  <li>Recall: 0.85</li>\n",
    "  <li>F1: 0.79</li>\n",
    " </ol>"
   ]
  },
  {
   "attachments": {},
   "cell_type": "markdown",
   "metadata": {},
   "source": [
    "# Feature importance"
   ]
  },
  {
   "attachments": {},
   "cell_type": "markdown",
   "metadata": {},
   "source": [
    "\n",
    "MES: 0.31388199843851006\n",
    "TELEOP_NUM: 0.18950415491467099\n",
    "CANAL_NUM: 0.2774010386433752\n",
    "COMERCIAL_NUM: 0.21921280800344367\n",
    "\n",
    "\n",
    "<ol>\n",
    "  <li>MES: 0.31 </li>\n",
    "  <li>CANAL_NUM: 0.27</li>\n",
    "  <li>F1: 0.79</li>\n",
    "  li>F1: 0.79</li>\n",
    " </ol>"
   ]
  }
 ],
 "metadata": {
  "kernelspec": {
   "display_name": "Python 3",
   "language": "python",
   "name": "python3"
  },
  "language_info": {
   "codemirror_mode": {
    "name": "ipython",
    "version": 3
   },
   "file_extension": ".py",
   "mimetype": "text/x-python",
   "name": "python",
   "nbconvert_exporter": "python",
   "pygments_lexer": "ipython3",
   "version": "3.7.4"
  },
  "orig_nbformat": 4
 },
 "nbformat": 4,
 "nbformat_minor": 2
}
